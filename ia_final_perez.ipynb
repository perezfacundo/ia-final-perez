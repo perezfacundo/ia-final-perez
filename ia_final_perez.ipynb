{
  "nbformat": 4,
  "nbformat_minor": 0,
  "metadata": {
    "colab": {
      "provenance": []
    },
    "kernelspec": {
      "name": "python3",
      "display_name": "Python 3"
    },
    "language_info": {
      "name": "python"
    }
  },
  "cells": [
    {
      "cell_type": "markdown",
      "source": [
        "# Trabajo Final: Generación automática de ejercicios a resolver.\n",
        "\n",
        "## 1. Introducción\n",
        "\n",
        "### 1.1 Explicación del problema\n",
        "En el desarrollo de software es frecuente que sean escasos los ejercicios para aplicar conceptos o que la creatividad se acabe rápido, ya sea que estemos buscando ejercicios para resolver nosotros o para que los resuelva un alumno. Pero también podría ampliarse el rango objetivo hacia más áreas que tengan el mismo problema, o que se puedan resolver desde texto a texto o texto a imagen. Esto supone un problema porque ralentiza y demora el avance de la práctica y el aprendizaje. Es necesario brindar una solución para que deje de ser una preocupación la búsqueda de ejercicios y concentrar los esfuerzos y creatividad en la resolución de los mismos.\n",
        "\n",
        "### 1.2 Objetivos\n",
        "Desde un formulario web se le solicitará al usuario una serie de parámetros como asignatura, nivel, dificultad, orientación, etc. los cuales se usarán para generar un prompt y que la inteligencia artificial desarrolle un ejercicio sujeto a los parámetros indicados. El resultado podría ser tanto una consigna redactada como una imagen.\n",
        "\n",
        "### 1.3 Justificación de viabilidad\n",
        "El proyecto es viable porque es factible solicitarle a cualquier inteligencia artificial que desarrolle un texto o imagen, dado que es la forma en la que trabajan según sea.\n",
        "\n",
        "## 2. Metodología\n",
        "2.1 Recopilación de datos: Recopilar información por medio de un formulario web que solicite: espacio curricular, tema, y dificultad.\n",
        "2.2 Procesamiento de texto: Utilizar Gemini para procesar el prompt y generar una respuesta.\n",
        "\n",
        "## 3. Lenguajes y herramientas\n",
        "- Python\n",
        "- Gemini API\n",
        "\n",
        "## 4. Implementación\n"
      ],
      "metadata": {
        "id": "70CS0m9ReTzE"
      }
    },
    {
      "cell_type": "code",
      "source": [
        "import google.generativeai as genai\n",
        "\n",
        "genai.configure(api_key=\"TU_CLAVE_API_DE_GEMINI\")\n",
        "\n",
        "model = genai.GenerativeModel(\"gemini-1.5-flash\")\n",
        "\n",
        "# Establecemos el contexto inicial\n",
        "context = \"Seras un ayudante. Proveerás de un ejercicio didáctico a resolver que diseñarás a partir de los parámetros que te brindará el usuario.\"\n",
        "\n",
        "# Prompt inicial\n",
        "prompt = \"Necesito un ejercicio para resolver. La materia es aplicaciones web, el tema es angular. La dificultad es avanzada\"\n",
        "\n",
        "# Mostrar la respuesta\n",
        "response = model.generate_content(prompt)\n",
        "print({response.text})"
      ],
      "metadata": {
        "id": "EaeB5lU3huYW"
      },
      "execution_count": null,
      "outputs": []
    },
    {
      "cell_type": "markdown",
      "source": [
        "## 5. Conclusiones\n",
        "\n",
        "Es una buena iniciativa porque sería como tener un profesor a disposición las 24 horas. Poder generar ejercicios personalizados para cualquier tema ayuda a poner en práctica lo aprendido teóricamente e identificar áreas débiles.\n",
        "\n",
        "### 5.1 Lo bueno\n",
        "- Practicar a ritmo propio con la dificultad más conveniente.\n",
        "- Interés constante consecuencia de la baja probabilidad de repetición en cuanto a ejercicios.\n",
        "- Poder acceder desde cualquier lugar, y cualquier dispositivo.\n",
        "\n",
        "### 5.2 A mejorar\n",
        "- Quizás sería bueno que además del ejercicio también provea de la solución en caso de que haga falta verla.\n",
        "- También sería valorable poder enviar la solución y que la aplicación corrija el ejercicio dando una devolución."
      ],
      "metadata": {
        "id": "ofxqdw_jkOiA"
      }
    }
  ]
}